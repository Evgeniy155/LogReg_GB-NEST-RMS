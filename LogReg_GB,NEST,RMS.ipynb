{
 "cells": [
  {
   "cell_type": "code",
   "execution_count": 1,
   "metadata": {},
   "outputs": [],
   "source": [
    "import numpy as np\n",
    "from sklearn import datasets\n",
    "iris = datasets.load_iris()"
   ]
  },
  {
   "cell_type": "code",
   "execution_count": 2,
   "metadata": {},
   "outputs": [
    {
     "data": {
      "text/plain": [
       "array(['setosa', 'versicolor', 'virginica'], dtype='<U10')"
      ]
     },
     "execution_count": 2,
     "metadata": {},
     "output_type": "execute_result"
    }
   ],
   "source": [
    "iris.target_names # Выбираем только последние два"
   ]
  },
  {
   "cell_type": "code",
   "execution_count": 3,
   "metadata": {},
   "outputs": [],
   "source": [
    "X=iris.data[50:]\n",
    "y=iris.target[50:]-1 #Меняем нумерацию классов с (1,2) на (0,1)"
   ]
  },
  {
   "cell_type": "code",
   "execution_count": 40,
   "metadata": {},
   "outputs": [
    {
     "name": "stdout",
     "output_type": "stream",
     "text": [
      "Среднеквадратичная ошибка: 0.018422678415863807\n"
     ]
    }
   ],
   "source": [
    "#Градиентный спуск\n",
    "t0=1\n",
    "t1=1\n",
    "t2=1\n",
    "t3=1\n",
    "t4=1 # Начальные значения параметров\n",
    "step=0.1 # Величина шага\n",
    "for k in range(2000):\n",
    "        der_loss_array=np.array([\n",
    "            np.array([X[i][j]*(y[i]-1/(1+np.exp(-t0-t1*X[i][0]-t2*X[i][1]-t3*X[i][2]-t4*X[i][3]))) \n",
    "                      for j in range(len(X[0]))]) for i in range(len(y))]) # Матрица производных\n",
    "        t1=t1+step*np.array([der_loss_array[i][0] for i in range(len(y))]).sum()\n",
    "        t2=t2+step*np.array([der_loss_array[i][1] for i in range(len(y))]).sum()\n",
    "        t3=t3+step*np.array([der_loss_array[i][2] for i in range(len(y))]).sum()\n",
    "        t4=t4+step*np.array([der_loss_array[i][3] for i in range(len(y))]).sum()\n",
    "        t0=t0+step*np.array([y[i]-1/(1+np.exp(-t0-t1*X[i][0]-t2*X[i][1]-t3*X[i][2]-t4*X[i][3])) \n",
    "                              for i in range(len(y))]).sum()\n",
    "\n",
    "y_pred=np.array([1/(1+np.exp(-t0-t1*X[i][0]-t2*X[i][1]-t3*X[i][2]-t4*X[i][3])) for i in range(len(y))])\n",
    "error=((y-y_pred)**2).mean()\n",
    "print('Среднеквадратичная ошибка:',error)"
   ]
  },
  {
   "cell_type": "code",
   "execution_count": 41,
   "metadata": {},
   "outputs": [
    {
     "name": "stdout",
     "output_type": "stream",
     "text": [
      "-66.0300313783441 -82.28828342103637 -79.22486199778989 124.1514248142746 113.8220789039461\n"
     ]
    }
   ],
   "source": [
    "print(t0,t1,t2,t3,t4)"
   ]
  },
  {
   "cell_type": "code",
   "execution_count": 56,
   "metadata": {},
   "outputs": [
    {
     "name": "stdout",
     "output_type": "stream",
     "text": [
      "Среднеквадратичная ошибка: 0.3796373302716973\n"
     ]
    }
   ],
   "source": [
    "# Nesterov momentum\n",
    "t0=1\n",
    "t1=1\n",
    "t2=1\n",
    "t3=1\n",
    "t4=1 # Начальные значения параметров\n",
    "step=0.01 # Величина шага\n",
    "gamma=0.975 # Коэффициент сохранения\n",
    "v0=np.array([0.1,0.1,0.1,0.1,0.1])\n",
    "v1=np.array([0.1,0.1,0.1,0.1,0.1])\n",
    "for k in range(1000):\n",
    "    v0=v1\n",
    "    der_loss_array=np.array([\n",
    "            np.array([X[i][j]*(y[i]-1/(1+np.exp(-(t0-gamma*v0[0])-(t1-gamma*v0[1])*X[i][0]-(t2-gamma*v0[2])*X[i][1]\n",
    "                                                -(t3-gamma*v0[3])*X[i][2]-(t4-gamma*v0[4])*X[i][3]))) \n",
    "                      for j in range(len(X[0]))]) for i in range(len(y))]) # Матрица производных\n",
    "    \n",
    "    v1[0]=gamma*v0[0]+step*(1-gamma)*(np.array([(y[i]-1/(1+np.exp(-(t0-gamma*v0[0])-(t1-gamma*v0[1])*X[i][0]-\n",
    "                                                                 (t2-gamma*v0[2])*X[i][1]-(t3-gamma*v0[3])*X[i][3]\n",
    "                                                                 -(t4-gamma*v0[4])*X[i][3]))) for i in range(len(y))]).sum())\n",
    "    for j in range(1,5):\n",
    "        v1[j]=gamma*v0[j]+step*(1-gamma)*np.array([der_loss_array[i][j-1] for i in range(len(y))]).sum()\n",
    "    t1=t1+v1[1]\n",
    "    t2=t2+v1[2]\n",
    "    t3=t3+v1[3]\n",
    "    t4=t4+v1[4]\n",
    "    t0=t0+v1[0]\n",
    "\n",
    "y_pred=np.array([1/(1+np.exp(-t0-t1*X[i][0]-t2*X[i][1]-t3*X[i][2]-t4*X[i][3])) for i in range(len(y))])\n",
    "error=((y-y_pred)**2).mean()\n",
    "print('Среднеквадратичная ошибка:',error)"
   ]
  },
  {
   "cell_type": "code",
   "execution_count": 59,
   "metadata": {},
   "outputs": [
    {
     "name": "stdout",
     "output_type": "stream",
     "text": [
      "Среднеквадратичная ошибка: 0.04050109376736006\n"
     ]
    }
   ],
   "source": [
    "# RMSProp\n",
    "t0=1\n",
    "t1=1\n",
    "t2=1\n",
    "t3=1\n",
    "t4=1 # Начальные значения параметров\n",
    "step=0.1 # Величина шага\n",
    "gamma=0.9 # Коэффициент сохранения\n",
    "e=1 # Сглаживающий параметр\n",
    "Egt=np.array([0,0,0,0,0]) # Сумма квадратов смещений\n",
    "for k in range(500):\n",
    "        der_loss_array=np.array([\n",
    "            np.array([X[i][j]*(y[i]-1/(1+np.exp(-t0-t1*X[i][0]-t2*X[i][1]-t3*X[i][2]-t4*X[i][3]))) \n",
    "                      for j in range(len(X[0]))]) for i in range(len(y))]) # Матрица производных\n",
    "        \n",
    "        for j in range(1,5):\n",
    "            Egt[j]=Egt[j]*gamma+(1-gamma)*np.array([der_loss_array[i][j-1]**2 for i in range(len(y))]).sum()\n",
    "        Egt[0]=Egt[0]*gamma+(1-gamma)*np.array([(y[i]-1/(1+np.exp(-t0-t1*X[i][0]-t2*X[i][1]-t3*X[i][2]-t4*X[i][3])))**2\n",
    "                                               for i in range(len(y))]).sum()\n",
    "        \n",
    "        t1=t1+step*np.array([der_loss_array[i][0] for i in range(len(y))]).sum()/np.sqrt(Egt[1]+e)\n",
    "        t2=t2+step*np.array([der_loss_array[i][1] for i in range(len(y))]).sum()/np.sqrt(Egt[2]+e)\n",
    "        t3=t3+step*np.array([der_loss_array[i][2] for i in range(len(y))]).sum()/np.sqrt(Egt[3]+e)\n",
    "        t4=t4+step*np.array([der_loss_array[i][3] for i in range(len(y))]).sum()/np.sqrt(Egt[4]+e)\n",
    "        t0=t0+step*np.array([y[i]-1/(1+np.exp(-t0-t1*X[i][0]-t2*X[i][1]-t3*X[i][2]-t4*X[i][3])) \n",
    "                              for i in range(len(y))]).sum()/np.sqrt(Egt[0]+e)\n",
    "\n",
    "y_pred=np.array([1/(1+np.exp(-t0-t1*X[i][0]-t2*X[i][1]-t3*X[i][2]-t4*X[i][3])) for i in range(len(y))])\n",
    "error=((y-y_pred)**2).mean()\n",
    "print('Среднеквадратичная ошибка:',error)"
   ]
  }
 ],
 "metadata": {
  "kernelspec": {
   "display_name": "Python 3",
   "language": "python",
   "name": "python3"
  },
  "language_info": {
   "codemirror_mode": {
    "name": "ipython",
    "version": 3
   },
   "file_extension": ".py",
   "mimetype": "text/x-python",
   "name": "python",
   "nbconvert_exporter": "python",
   "pygments_lexer": "ipython3",
   "version": "3.8.3"
  }
 },
 "nbformat": 4,
 "nbformat_minor": 4
}
